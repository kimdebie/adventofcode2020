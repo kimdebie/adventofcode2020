{
 "cells": [
  {
   "cell_type": "code",
   "execution_count": null,
   "metadata": {},
   "outputs": [],
   "source": [
    "from utils import read_file"
   ]
  },
  {
   "cell_type": "code",
   "execution_count": null,
   "metadata": {},
   "outputs": [],
   "source": [
    "lines = read_file('input/day4.txt')"
   ]
  },
  {
   "cell_type": "code",
   "execution_count": null,
   "metadata": {},
   "outputs": [],
   "source": [
    "line = 0\n",
    "passports = []\n",
    "\n",
    "while line < len(lines):\n",
    "    passport = ''\n",
    "    while line < len(lines) and lines[line] != '':\n",
    "        passport += ' '\n",
    "        passport += lines[line]\n",
    "        line+=1\n",
    "    line+=1\n",
    "    passports.append(passport)\n",
    "    \n",
    "passports"
   ]
  },
  {
   "cell_type": "code",
   "execution_count": null,
   "metadata": {},
   "outputs": [],
   "source": [
    "all_passes = []\n",
    "\n",
    "for p in passports:\n",
    "    pass_dict = {}\n",
    "\n",
    "    split_entries = p.split(' ')\n",
    "    for entry in split_entries:\n",
    "        if entry:\n",
    "            key, value = entry.split(':')\n",
    "            pass_dict[key] = value\n",
    "    all_passes.append(pass_dict)"
   ]
  },
  {
   "cell_type": "code",
   "execution_count": null,
   "metadata": {},
   "outputs": [],
   "source": [
    "valid_passport_count = 0\n",
    "valid_passports = []\n",
    "for p in all_passes:\n",
    "    if {'byr', 'iyr', 'eyr', 'hgt', 'hcl', 'ecl', 'pid'}.issubset(set(p.keys())):\n",
    "        valid_passport_count += 1\n",
    "        valid_passports.append(p)\n",
    "valid_passport_count"
   ]
  },
  {
   "cell_type": "code",
   "execution_count": null,
   "metadata": {},
   "outputs": [],
   "source": [
    "valid_pass_count2 = 0\n",
    "for v in valid_passports:\n",
    "     if (int(v['byr']) >= 1920 and int(v['byr']) <= 2002) \\\n",
    "     and (int(v['iyr']) >= 2010 and int(v['iyr']) <= 2020) \\\n",
    "     and (int(v['eyr']) >= 2020 and int(v['eyr']) <= 2030) \\\n",
    "     and (('cm' in v['hgt'] and int(v['hgt'][:-2]) >= 150 and int(v['hgt'][:-2]) <= 193) \\\n",
    "          or ('in' in v['hgt'] and int(v['hgt'][:-2]) >= 59 and int(v['hgt'][:-2]) <= 76)) \\\n",
    "     and haircolorcheck(v['hcl']) and eyecolorcheck(v['ecl']) and pidcheck(v['pid']):\n",
    "        valid_pass_count2+=1\n",
    "valid_pass_count2"
   ]
  },
  {
   "cell_type": "code",
   "execution_count": null,
   "metadata": {},
   "outputs": [],
   "source": [
    "def codecheck(hc):\n",
    "    valid = True\n",
    "    for c in hc:\n",
    "        if not c.isdigit():\n",
    "            if not(ord(c) > 96 and ord(c) < 103):\n",
    "                valid = False\n",
    "    return valid\n",
    "\n",
    "def haircolorcheck(hc):\n",
    "    \n",
    "    if hc[0] == '#' and len(hc) == 7:\n",
    "        return codecheck(hc[1:])\n",
    "    else:\n",
    "        return False"
   ]
  },
  {
   "cell_type": "code",
   "execution_count": null,
   "metadata": {},
   "outputs": [],
   "source": [
    "def eyecolorcheck(ec):\n",
    "    return ec in ['amb', 'blu', 'brn', 'gry', 'grn', 'hzl', 'oth']"
   ]
  },
  {
   "cell_type": "code",
   "execution_count": null,
   "metadata": {},
   "outputs": [],
   "source": [
    "def pidcheck(pid):\n",
    "    if len(pid) == 9:\n",
    "        return digitcheck(pid)\n",
    "    else:\n",
    "        return False\n",
    "                \n",
    "def digitcheck(ids):\n",
    "    valid = True\n",
    "    for i in ids:\n",
    "        if not i.isdigit():\n",
    "            valid = False\n",
    "            \n",
    "    return valid"
   ]
  }
 ],
 "metadata": {
  "kernelspec": {
   "display_name": "Python 3",
   "language": "python",
   "name": "python3"
  },
  "language_info": {
   "codemirror_mode": {
    "name": "ipython",
    "version": 3
   },
   "file_extension": ".py",
   "mimetype": "text/x-python",
   "name": "python",
   "nbconvert_exporter": "python",
   "pygments_lexer": "ipython3",
   "version": "3.8.3"
  }
 },
 "nbformat": 4,
 "nbformat_minor": 4
}
