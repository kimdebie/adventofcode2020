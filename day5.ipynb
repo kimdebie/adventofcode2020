{
 "cells": [
  {
   "cell_type": "code",
   "execution_count": null,
   "metadata": {},
   "outputs": [],
   "source": [
    "from utils import read_file\n",
    "from math import floor, ceil"
   ]
  },
  {
   "cell_type": "code",
   "execution_count": null,
   "metadata": {},
   "outputs": [],
   "source": [
    "passes = read_file('input/day5.txt')\n",
    "passes"
   ]
  },
  {
   "cell_type": "code",
   "execution_count": null,
   "metadata": {},
   "outputs": [],
   "source": [
    "def binary_search(p, left, right, letter1, letter2):\n",
    "    for i in p:\n",
    "        if i == letter1:\n",
    "            right = floor((right + left) / 2)\n",
    "        elif i == letter2:\n",
    "            left = ceil((right + left) / 2)\n",
    "\n",
    "    return left\n",
    "\n",
    "\n",
    "pass_ids = []\n",
    "for p in passes:\n",
    "    row = binary_search(p[:7], 0, 127, 'F', 'B')\n",
    "    column = binary_search(p[7:], 0, 7, 'L', 'R')\n",
    "    pass_id = 8*row+column\n",
    "    pass_ids.append(pass_id)\n",
    "max(pass_ids)"
   ]
  },
  {
   "cell_type": "code",
   "execution_count": null,
   "metadata": {},
   "outputs": [],
   "source": [
    "pass_ids.sort()\n",
    "pass_ids\n",
    "prev = 20\n",
    "for p in pass_ids:\n",
    "    if p != prev+1:\n",
    "        print(p-1)\n",
    "    prev=p\n",
    "    "
   ]
  }
 ],
 "metadata": {
  "kernelspec": {
   "display_name": "Python 3",
   "language": "python",
   "name": "python3"
  },
  "language_info": {
   "codemirror_mode": {
    "name": "ipython",
    "version": 3
   },
   "file_extension": ".py",
   "mimetype": "text/x-python",
   "name": "python",
   "nbconvert_exporter": "python",
   "pygments_lexer": "ipython3",
   "version": "3.8.3"
  }
 },
 "nbformat": 4,
 "nbformat_minor": 4
}
