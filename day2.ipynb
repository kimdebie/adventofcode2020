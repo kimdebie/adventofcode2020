{
 "cells": [
  {
   "cell_type": "code",
   "execution_count": null,
   "metadata": {},
   "outputs": [],
   "source": [
    "from utils import read_file"
   ]
  },
  {
   "cell_type": "code",
   "execution_count": null,
   "metadata": {},
   "outputs": [],
   "source": [
    "numbers = read_file('input/day2.txt')\n",
    "pws = [x.split(': ') for x in numbers]\n",
    "letters_pws = [x[0].split(' ') + [x[1]] for x in pws]\n",
    "data = [x[0].split('-') + [x[1], x[2]] for x in letters_pws]"
   ]
  },
  {
   "cell_type": "code",
   "execution_count": null,
   "metadata": {},
   "outputs": [],
   "source": [
    "valid = 0\n",
    "for min_count, max_count, letter, password in data:\n",
    "    if password.count(letter) >= int(min_count) and password.count(letter) <= int(max_count):\n",
    "        valid+=1       \n",
    "valid"
   ]
  },
  {
   "cell_type": "code",
   "execution_count": null,
   "metadata": {},
   "outputs": [],
   "source": [
    "valid = 0\n",
    "for pos1, pos2, letter, password in data:\n",
    "    pos1 = int(pos1)-1\n",
    "    pos2 = int(pos2)-1\n",
    "    if (password[pos1] == letter and not password[pos2] == letter) \\\n",
    "    or (not password[pos1] == letter and password[pos2] == letter):\n",
    "        valid+=1\n",
    "valid"
   ]
  }
 ],
 "metadata": {
  "kernelspec": {
   "display_name": "Python 3",
   "language": "python",
   "name": "python3"
  },
  "language_info": {
   "codemirror_mode": {
    "name": "ipython",
    "version": 3
   },
   "file_extension": ".py",
   "mimetype": "text/x-python",
   "name": "python",
   "nbconvert_exporter": "python",
   "pygments_lexer": "ipython3",
   "version": "3.8.3"
  }
 },
 "nbformat": 4,
 "nbformat_minor": 4
}
