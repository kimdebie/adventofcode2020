{
 "cells": [
  {
   "cell_type": "code",
   "execution_count": null,
   "metadata": {},
   "outputs": [],
   "source": [
    "from utils import read_file\n",
    "from copy import deepcopy"
   ]
  },
  {
   "cell_type": "code",
   "execution_count": null,
   "metadata": {},
   "outputs": [],
   "source": [
    "rules = read_file('input/day8.txt')\n",
    "rules = [rule.split(' ') for rule in rules]\n",
    "rules"
   ]
  },
  {
   "cell_type": "code",
   "execution_count": null,
   "metadata": {},
   "outputs": [],
   "source": [
    "rules_seen = []\n",
    "i = 0\n",
    "accumulator = 0\n",
    "\n",
    "while True:\n",
    "    \n",
    "    if i in rules_seen:\n",
    "        print(accumulator)\n",
    "        break\n",
    "    elif rules[i][0] == 'nop':\n",
    "        rules_seen.append(i)\n",
    "        i += 1\n",
    "    elif rules[i][0] == 'acc':\n",
    "        rules_seen.append(i)\n",
    "        accumulator += int(rules[i][1])\n",
    "        i += 1\n",
    "    elif rules[i][0] == 'jmp':\n",
    "        rules_seen.append(i)\n",
    "        i += int(rules[i][1])"
   ]
  },
  {
   "cell_type": "code",
   "execution_count": null,
   "metadata": {},
   "outputs": [],
   "source": [
    "def play_the_rules(rules):\n",
    "    \n",
    "    rules_seen = []\n",
    "    i = 0\n",
    "    accumulator = 0\n",
    "        \n",
    "    while True:\n",
    "\n",
    "        if i in rules_seen:\n",
    "            return False\n",
    "        elif i==len(rules):\n",
    "            print(f\"Ended! Accumulator: {accumulator}\")\n",
    "            return True\n",
    "        elif rules[i][0] == 'nop':\n",
    "            rules_seen.append(i)\n",
    "            i += 1\n",
    "        elif rules[i][0] == 'jmp':\n",
    "            rules_seen.append(i)\n",
    "            i += int(rules[i][1])    \n",
    "        elif rules[i][0] == 'acc':\n",
    "            rules_seen.append(i)\n",
    "            accumulator += int(rules[i][1])\n",
    "            i += 1\n",
    "\n",
    "for i in range(len(rules)):\n",
    "    if rules[i][0] == 'nop':\n",
    "        nw_rules = deepcopy(rules)\n",
    "        nw_rules[i][0] = 'jmp'\n",
    "        if play_the_rules(nw_rules):\n",
    "            break\n",
    "    elif rules[i][0] == 'jmp':\n",
    "        nw_rules = deepcopy(rules)\n",
    "        nw_rules[i][0] = 'nop'\n",
    "        if play_the_rules(nw_rules):\n",
    "            break       "
   ]
  }
 ],
 "metadata": {
  "kernelspec": {
   "display_name": "Python 3",
   "language": "python",
   "name": "python3"
  },
  "language_info": {
   "codemirror_mode": {
    "name": "ipython",
    "version": 3
   },
   "file_extension": ".py",
   "mimetype": "text/x-python",
   "name": "python",
   "nbconvert_exporter": "python",
   "pygments_lexer": "ipython3",
   "version": "3.8.3"
  }
 },
 "nbformat": 4,
 "nbformat_minor": 4
}
