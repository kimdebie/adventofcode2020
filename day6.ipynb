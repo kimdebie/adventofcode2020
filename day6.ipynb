{
 "cells": [
  {
   "cell_type": "code",
   "execution_count": null,
   "metadata": {},
   "outputs": [],
   "source": [
    "from utils import read_file"
   ]
  },
  {
   "cell_type": "code",
   "execution_count": null,
   "metadata": {},
   "outputs": [],
   "source": [
    "answers = read_file('input/day6.txt')"
   ]
  },
  {
   "cell_type": "code",
   "execution_count": null,
   "metadata": {},
   "outputs": [],
   "source": [
    "group = ''\n",
    "count = 0\n",
    "i = 0\n",
    "while i<len(answers):\n",
    "    if answers[i] == '':\n",
    "        count += len(set(group))\n",
    "        group = ''\n",
    "    elif i==len(answers)-1:\n",
    "        group += answers[i]\n",
    "        count += len(set(group))\n",
    "    else:\n",
    "        group += answers[i]\n",
    "    i+=1\n",
    "count"
   ]
  },
  {
   "cell_type": "code",
   "execution_count": null,
   "metadata": {},
   "outputs": [],
   "source": [
    "group = []\n",
    "i = 0\n",
    "count = 0\n",
    "while i<len(answers):\n",
    "    if answers[i] == '':\n",
    "        unique_answers = group[0]\n",
    "        for s in group:\n",
    "            unique_answers = unique_answers.intersection(s)\n",
    "        count += len(unique_answers)\n",
    "        group = []\n",
    "    elif i == len(answers)-1:\n",
    "        group.append(set(answers[i]))\n",
    "        unique_answers = group[0]\n",
    "        for s in group:\n",
    "            unique_answers = unique_answers.intersection(s)\n",
    "        count += len(unique_answers)\n",
    "    else:\n",
    "        group.append(set(answers[i]))\n",
    "    i+=1\n",
    "count"
   ]
  }
 ],
 "metadata": {
  "kernelspec": {
   "display_name": "Python 3",
   "language": "python",
   "name": "python3"
  },
  "language_info": {
   "codemirror_mode": {
    "name": "ipython",
    "version": 3
   },
   "file_extension": ".py",
   "mimetype": "text/x-python",
   "name": "python",
   "nbconvert_exporter": "python",
   "pygments_lexer": "ipython3",
   "version": "3.8.3"
  }
 },
 "nbformat": 4,
 "nbformat_minor": 4
}
