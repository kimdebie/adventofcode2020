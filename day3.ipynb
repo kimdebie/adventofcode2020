{
 "cells": [
  {
   "cell_type": "code",
   "execution_count": null,
   "metadata": {},
   "outputs": [],
   "source": [
    "from utils import read_file"
   ]
  },
  {
   "cell_type": "code",
   "execution_count": null,
   "metadata": {},
   "outputs": [],
   "source": [
    "numbers = read_file('input/day3.txt')\n",
    "numbers"
   ]
  },
  {
   "cell_type": "code",
   "execution_count": null,
   "metadata": {},
   "outputs": [],
   "source": [
    "def slope_mover(right, down):\n",
    "    trees = 0\n",
    "    pos=0\n",
    "    row=0\n",
    "    while row < len(numbers):\n",
    "        if numbers[row][pos%len(numbers[row])] == '#':\n",
    "            trees += 1\n",
    "        pos += right\n",
    "        row += down\n",
    "        \n",
    "    return trees\n",
    "\n",
    "answer=1\n",
    "for r,d in [(1,1), (3,1), (5,1), (7,1), (1,2)]:\n",
    "    answer *= slope_mover(r,d)\n",
    "answer"
   ]
  }
 ],
 "metadata": {
  "kernelspec": {
   "display_name": "Python 3",
   "language": "python",
   "name": "python3"
  },
  "language_info": {
   "codemirror_mode": {
    "name": "ipython",
    "version": 3
   },
   "file_extension": ".py",
   "mimetype": "text/x-python",
   "name": "python",
   "nbconvert_exporter": "python",
   "pygments_lexer": "ipython3",
   "version": "3.8.3"
  }
 },
 "nbformat": 4,
 "nbformat_minor": 4
}
