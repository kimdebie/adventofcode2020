{
 "cells": [
  {
   "cell_type": "code",
   "execution_count": null,
   "metadata": {},
   "outputs": [],
   "source": [
    "from utils import read_file\n",
    "from itertools import combinations"
   ]
  },
  {
   "cell_type": "code",
   "execution_count": null,
   "metadata": {},
   "outputs": [],
   "source": [
    "numbers = read_file('input/day9.txt')\n",
    "numbers = [int(i) for i in numbers]\n",
    "numbers"
   ]
  },
  {
   "cell_type": "code",
   "execution_count": null,
   "metadata": {},
   "outputs": [],
   "source": [
    "def part1(numbers):\n",
    "    for i in range(25, len(numbers)):\n",
    "        start = i-25\n",
    "        end = i-1\n",
    "        combos = combinations(numbers[start:i], 2)\n",
    "        summed = [sum(combo) for combo in combos]\n",
    "        if not numbers[i] in summed:\n",
    "            return numbers[i]\n",
    "    return \"fail\"\n",
    "\n",
    "bad_number = part1(numbers)"
   ]
  },
  {
   "cell_type": "code",
   "execution_count": null,
   "metadata": {},
   "outputs": [],
   "source": [
    "def part2(bad_number, numbers):\n",
    "    start = 0\n",
    "    setoff = 2\n",
    "    \n",
    "    not_found = True\n",
    "    \n",
    "    while not_found:\n",
    "        for i in range(len(numbers)-setoff):\n",
    "            total = sum(numbers[i:i+setoff])\n",
    "            if total == bad_number:\n",
    "                return min(numbers[i:i+setoff])+max(numbers[i:i+setoff])\n",
    "            \n",
    "        setoff += 1\n",
    "        \n",
    "print(part2(bad_number, numbers))"
   ]
  }
 ],
 "metadata": {
  "kernelspec": {
   "display_name": "Python 3",
   "language": "python",
   "name": "python3"
  },
  "language_info": {
   "codemirror_mode": {
    "name": "ipython",
    "version": 3
   },
   "file_extension": ".py",
   "mimetype": "text/x-python",
   "name": "python",
   "nbconvert_exporter": "python",
   "pygments_lexer": "ipython3",
   "version": "3.8.3"
  }
 },
 "nbformat": 4,
 "nbformat_minor": 4
}
