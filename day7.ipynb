{
 "cells": [
  {
   "cell_type": "code",
   "execution_count": null,
   "metadata": {},
   "outputs": [],
   "source": [
    "from utils import read_file"
   ]
  },
  {
   "cell_type": "code",
   "execution_count": null,
   "metadata": {},
   "outputs": [],
   "source": [
    "rules = read_file('input/day7.txt')\n",
    "rules"
   ]
  },
  {
   "cell_type": "code",
   "execution_count": null,
   "metadata": {},
   "outputs": [],
   "source": [
    "def inner_gold(rules, bag, valid_bags):\n",
    "\n",
    "    for rule in rules:\n",
    "        outer, inner = rule.split(' bags contain ')\n",
    "        if bag in inner:\n",
    "            valid_bags.append(rule)\n",
    "            valid_bags = inner_gold(rules, outer, valid_bags)\n",
    "            \n",
    "    return valid_bags\n",
    "\n",
    "valid_bags = []\n",
    "valid_bags = inner_gold(rules, 'shiny gold', valid_bags)\n",
    "len(set(valid_bags))"
   ]
  },
  {
   "cell_type": "code",
   "execution_count": null,
   "metadata": {},
   "outputs": [],
   "source": [
    "def how_many(rules, bag, count, add):\n",
    "\n",
    "    for rule in rules:\n",
    "        outer, inner = rule.split('s contain ')\n",
    "        if bag in outer and not 'no other' in inner:\n",
    "            bags = inner.split(\", \")\n",
    "            for b in bags:\n",
    "                add = int(b[0])\n",
    "                for i in range(add):\n",
    "                    count += 1\n",
    "                    nw_bag = b[2:].split(\" ba\")[0]\n",
    "                    count = how_many(rules, nw_bag, count, add)\n",
    "            \n",
    "    return count\n",
    "\n",
    "count = 0\n",
    "count = how_many(rules, 'shiny gold', count, 1)\n",
    "count"
   ]
  }
 ],
 "metadata": {
  "kernelspec": {
   "display_name": "Python 3",
   "language": "python",
   "name": "python3"
  },
  "language_info": {
   "codemirror_mode": {
    "name": "ipython",
    "version": 3
   },
   "file_extension": ".py",
   "mimetype": "text/x-python",
   "name": "python",
   "nbconvert_exporter": "python",
   "pygments_lexer": "ipython3",
   "version": "3.8.3"
  }
 },
 "nbformat": 4,
 "nbformat_minor": 4
}
