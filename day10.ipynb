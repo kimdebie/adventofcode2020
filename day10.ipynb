{
 "cells": [
  {
   "cell_type": "code",
   "execution_count": 52,
   "metadata": {},
   "outputs": [],
   "source": [
    "from utils import read_file"
   ]
  },
  {
   "cell_type": "code",
   "execution_count": 25,
   "metadata": {},
   "outputs": [],
   "source": [
    "jolts = read_file('input/day10.txt')\n",
    "jolts = [int(j) for j in jolts]\n",
    "\n",
    "# add first and last\n",
    "jolts_full = jolts\n",
    "jolts_full.append(0)\n",
    "jolts_full.sort()\n",
    "jolts_full.append(jolts_full[-1]+3)"
   ]
  },
  {
   "cell_type": "code",
   "execution_count": 26,
   "metadata": {},
   "outputs": [
    {
     "data": {
      "text/plain": [
       "2210"
      ]
     },
     "execution_count": 26,
     "metadata": {},
     "output_type": "execute_result"
    }
   ],
   "source": [
    "diff1 = 0\n",
    "diff3 = 0\n",
    "for i in range(1, len(jolts_full)):\n",
    "    if jolts_full[i] - jolts_full[i-1] == 1:\n",
    "        diff1 += 1\n",
    "    elif jolts_full[i] - jolts_full[i-1] == 3:\n",
    "        diff3 += 1\n",
    "    \n",
    "diff1 * diff3"
   ]
  },
  {
   "cell_type": "code",
   "execution_count": 99,
   "metadata": {},
   "outputs": [
    {
     "data": {
      "text/plain": [
       "7086739046912"
      ]
     },
     "execution_count": 99,
     "metadata": {},
     "output_type": "execute_result"
    }
   ],
   "source": [
    "jolts_full.sort(reverse=True)\n",
    "\n",
    "ways = {jolts_full[0]: 1}\n",
    "\n",
    "for i in range(1, len(jolts_full)):\n",
    "    \n",
    "    jolt = jolts_full[i]\n",
    "    sub_routes = 0\n",
    "    ix = 1\n",
    "    while jolts_full[i-ix] - jolt <= 3 and i-ix>=0:\n",
    "        sub_routes += ways[jolts_full[i-ix]]\n",
    "        ix += 1\n",
    "    ways[jolt] = sub_routes\n",
    "    \n",
    "ways[0]"
   ]
  },
  {
   "cell_type": "code",
   "execution_count": 100,
   "metadata": {},
   "outputs": [
    {
     "data": {
      "text/plain": [
       "[173,\n",
       " 170,\n",
       " 167,\n",
       " 164,\n",
       " 163,\n",
       " 162,\n",
       " 161,\n",
       " 160,\n",
       " 157,\n",
       " 156,\n",
       " 155,\n",
       " 152,\n",
       " 151,\n",
       " 150,\n",
       " 147,\n",
       " 146,\n",
       " 145,\n",
       " 142,\n",
       " 139,\n",
       " 138,\n",
       " 137,\n",
       " 136,\n",
       " 135,\n",
       " 132,\n",
       " 129,\n",
       " 128,\n",
       " 127,\n",
       " 126,\n",
       " 123,\n",
       " 122,\n",
       " 121,\n",
       " 118,\n",
       " 117,\n",
       " 116,\n",
       " 115,\n",
       " 114,\n",
       " 111,\n",
       " 110,\n",
       " 109,\n",
       " 108,\n",
       " 107,\n",
       " 104,\n",
       " 103,\n",
       " 102,\n",
       " 101,\n",
       " 100,\n",
       " 97,\n",
       " 94,\n",
       " 93,\n",
       " 92,\n",
       " 91,\n",
       " 90,\n",
       " 87,\n",
       " 84,\n",
       " 83,\n",
       " 80,\n",
       " 77,\n",
       " 76,\n",
       " 75,\n",
       " 74,\n",
       " 73,\n",
       " 70,\n",
       " 69,\n",
       " 68,\n",
       " 67,\n",
       " 64,\n",
       " 61,\n",
       " 60,\n",
       " 59,\n",
       " 58,\n",
       " 57,\n",
       " 54,\n",
       " 51,\n",
       " 48,\n",
       " 47,\n",
       " 46,\n",
       " 45,\n",
       " 44,\n",
       " 41,\n",
       " 40,\n",
       " 39,\n",
       " 38,\n",
       " 37,\n",
       " 34,\n",
       " 31,\n",
       " 30,\n",
       " 29,\n",
       " 28,\n",
       " 27,\n",
       " 24,\n",
       " 21,\n",
       " 20,\n",
       " 19,\n",
       " 16,\n",
       " 13,\n",
       " 10,\n",
       " 7,\n",
       " 4,\n",
       " 3,\n",
       " 2,\n",
       " 1,\n",
       " 0]"
      ]
     },
     "execution_count": 100,
     "metadata": {},
     "output_type": "execute_result"
    }
   ],
   "source": [
    "jolts_full"
   ]
  }
 ],
 "metadata": {
  "kernelspec": {
   "display_name": "Python 3",
   "language": "python",
   "name": "python3"
  },
  "language_info": {
   "codemirror_mode": {
    "name": "ipython",
    "version": 3
   },
   "file_extension": ".py",
   "mimetype": "text/x-python",
   "name": "python",
   "nbconvert_exporter": "python",
   "pygments_lexer": "ipython3",
   "version": "3.8.3"
  }
 },
 "nbformat": 4,
 "nbformat_minor": 4
}
